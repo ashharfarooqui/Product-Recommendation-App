{
 "cells": [
  {
   "cell_type": "markdown",
   "id": "6e9372a5",
   "metadata": {},
   "source": [
    "# Product Recommendation App: Group 3\n",
    "## Exploratory Data Analysis (EDA) & Visualization\n",
    "This notebook performs detailed EDA and data visualization using the `rating_short.csv` dataset."
   ]
  },
  {
   "cell_type": "code",
   "execution_count": 2,
   "id": "c4aa2b62",
   "metadata": {},
   "outputs": [],
   "source": [
    "# Import required libraries\n",
    "import pandas as pd\n",
    "import numpy as np\n",
    "import matplotlib.pyplot as plt\n",
    "import seaborn as sns"
   ]
  },
  {
   "cell_type": "code",
   "execution_count": 3,
   "id": "0ea6b224",
   "metadata": {},
   "outputs": [
    {
     "data": {
      "application/vnd.microsoft.datawrangler.viewer.v0+json": {
       "columns": [
        {
         "name": "index",
         "rawType": "int64",
         "type": "integer"
        },
        {
         "name": "userid",
         "rawType": "object",
         "type": "string"
        },
        {
         "name": "productid",
         "rawType": "object",
         "type": "string"
        },
        {
         "name": "rating",
         "rawType": "float64",
         "type": "float"
        },
        {
         "name": "date",
         "rawType": "int64",
         "type": "integer"
        }
       ],
       "ref": "bca74ca8-263a-4080-842f-9094566050fb",
       "rows": [
        [
         "0",
         "A1Z3YJF1S8Z1M3",
         "B000M9ISQ2",
         "5.0",
         "1199750400"
        ],
        [
         "1",
         "ALDXDYEGKB27G",
         "B002L6HE9G",
         "4.0",
         "1331337600"
        ],
        [
         "2",
         "A15LOGO6NBSI6B",
         "B007MXGG5Q",
         "5.0",
         "1358640000"
        ],
        [
         "3",
         "A23LX12CA3G4FG",
         "B008HOEDYU",
         "1.0",
         "1385337600"
        ],
        [
         "4",
         "A3TV7QFYXAG130",
         "B0069R7TAM",
         "5.0",
         "1402963200"
        ]
       ],
       "shape": {
        "columns": 4,
        "rows": 5
       }
      },
      "text/html": [
       "<div>\n",
       "<style scoped>\n",
       "    .dataframe tbody tr th:only-of-type {\n",
       "        vertical-align: middle;\n",
       "    }\n",
       "\n",
       "    .dataframe tbody tr th {\n",
       "        vertical-align: top;\n",
       "    }\n",
       "\n",
       "    .dataframe thead th {\n",
       "        text-align: right;\n",
       "    }\n",
       "</style>\n",
       "<table border=\"1\" class=\"dataframe\">\n",
       "  <thead>\n",
       "    <tr style=\"text-align: right;\">\n",
       "      <th></th>\n",
       "      <th>userid</th>\n",
       "      <th>productid</th>\n",
       "      <th>rating</th>\n",
       "      <th>date</th>\n",
       "    </tr>\n",
       "  </thead>\n",
       "  <tbody>\n",
       "    <tr>\n",
       "      <th>0</th>\n",
       "      <td>A1Z3YJF1S8Z1M3</td>\n",
       "      <td>B000M9ISQ2</td>\n",
       "      <td>5.0</td>\n",
       "      <td>1199750400</td>\n",
       "    </tr>\n",
       "    <tr>\n",
       "      <th>1</th>\n",
       "      <td>ALDXDYEGKB27G</td>\n",
       "      <td>B002L6HE9G</td>\n",
       "      <td>4.0</td>\n",
       "      <td>1331337600</td>\n",
       "    </tr>\n",
       "    <tr>\n",
       "      <th>2</th>\n",
       "      <td>A15LOGO6NBSI6B</td>\n",
       "      <td>B007MXGG5Q</td>\n",
       "      <td>5.0</td>\n",
       "      <td>1358640000</td>\n",
       "    </tr>\n",
       "    <tr>\n",
       "      <th>3</th>\n",
       "      <td>A23LX12CA3G4FG</td>\n",
       "      <td>B008HOEDYU</td>\n",
       "      <td>1.0</td>\n",
       "      <td>1385337600</td>\n",
       "    </tr>\n",
       "    <tr>\n",
       "      <th>4</th>\n",
       "      <td>A3TV7QFYXAG130</td>\n",
       "      <td>B0069R7TAM</td>\n",
       "      <td>5.0</td>\n",
       "      <td>1402963200</td>\n",
       "    </tr>\n",
       "  </tbody>\n",
       "</table>\n",
       "</div>"
      ],
      "text/plain": [
       "           userid   productid  rating        date\n",
       "0  A1Z3YJF1S8Z1M3  B000M9ISQ2     5.0  1199750400\n",
       "1   ALDXDYEGKB27G  B002L6HE9G     4.0  1331337600\n",
       "2  A15LOGO6NBSI6B  B007MXGG5Q     5.0  1358640000\n",
       "3  A23LX12CA3G4FG  B008HOEDYU     1.0  1385337600\n",
       "4  A3TV7QFYXAG130  B0069R7TAM     5.0  1402963200"
      ]
     },
     "execution_count": 3,
     "metadata": {},
     "output_type": "execute_result"
    }
   ],
   "source": [
    "# Load the dataset\n",
    "df = pd.read_csv('rating_short.csv')\n",
    "df.head()"
   ]
  },
  {
   "cell_type": "markdown",
   "id": "b8e6db7d",
   "metadata": {},
   "source": [
    "## Data Overview\n",
    "- Columns: userid, productid, rating, date\n",
    "- Ratings are float, date is Unix timestamp."
   ]
  },
  {
   "cell_type": "code",
   "execution_count": 4,
   "id": "2675c1f9",
   "metadata": {},
   "outputs": [
    {
     "name": "stdout",
     "output_type": "stream",
     "text": [
      "<class 'pandas.core.frame.DataFrame'>\n",
      "RangeIndex: 78245 entries, 0 to 78244\n",
      "Data columns (total 4 columns):\n",
      " #   Column     Non-Null Count  Dtype  \n",
      "---  ------     --------------  -----  \n",
      " 0   userid     78245 non-null  object \n",
      " 1   productid  78245 non-null  object \n",
      " 2   rating     78245 non-null  float64\n",
      " 3   date       78245 non-null  int64  \n",
      "dtypes: float64(1), int64(1), object(2)\n",
      "memory usage: 2.4+ MB\n"
     ]
    },
    {
     "data": {
      "application/vnd.microsoft.datawrangler.viewer.v0+json": {
       "columns": [
        {
         "name": "index",
         "rawType": "object",
         "type": "string"
        },
        {
         "name": "0",
         "rawType": "int64",
         "type": "integer"
        }
       ],
       "ref": "5b4cc0a2-b972-4fa3-b8d9-8733ada1a267",
       "rows": [
        [
         "userid",
         "0"
        ],
        [
         "productid",
         "0"
        ],
        [
         "rating",
         "0"
        ],
        [
         "date",
         "0"
        ]
       ],
       "shape": {
        "columns": 1,
        "rows": 4
       }
      },
      "text/plain": [
       "userid       0\n",
       "productid    0\n",
       "rating       0\n",
       "date         0\n",
       "dtype: int64"
      ]
     },
     "execution_count": 4,
     "metadata": {},
     "output_type": "execute_result"
    }
   ],
   "source": [
    "# Data info and missing values\n",
    "df.info()\n",
    "df.isnull().sum()"
   ]
  },
  {
   "cell_type": "code",
   "execution_count": 5,
   "id": "8402d3ab",
   "metadata": {},
   "outputs": [
    {
     "data": {
      "application/vnd.microsoft.datawrangler.viewer.v0+json": {
       "columns": [
        {
         "name": "index",
         "rawType": "object",
         "type": "string"
        },
        {
         "name": "rating",
         "rawType": "float64",
         "type": "float"
        },
        {
         "name": "date",
         "rawType": "float64",
         "type": "float"
        }
       ],
       "ref": "bc85d299-39a1-4a9d-bebb-8d2bef5a387d",
       "rows": [
        [
         "count",
         "78245.0",
         "78245.0"
        ],
        [
         "mean",
         "4.0064540865231",
         "1338128147.5161352"
        ],
        [
         "std",
         "1.3853420505726504",
         "68919939.66507988"
        ],
        [
         "min",
         "1.0",
         "932083200.0"
        ],
        [
         "25%",
         "3.0",
         "1315008000.0"
        ],
        [
         "50%",
         "5.0",
         "1360800000.0"
        ],
        [
         "75%",
         "5.0",
         "1386028800.0"
        ],
        [
         "max",
         "5.0",
         "1406073600.0"
        ]
       ],
       "shape": {
        "columns": 2,
        "rows": 8
       }
      },
      "text/html": [
       "<div>\n",
       "<style scoped>\n",
       "    .dataframe tbody tr th:only-of-type {\n",
       "        vertical-align: middle;\n",
       "    }\n",
       "\n",
       "    .dataframe tbody tr th {\n",
       "        vertical-align: top;\n",
       "    }\n",
       "\n",
       "    .dataframe thead th {\n",
       "        text-align: right;\n",
       "    }\n",
       "</style>\n",
       "<table border=\"1\" class=\"dataframe\">\n",
       "  <thead>\n",
       "    <tr style=\"text-align: right;\">\n",
       "      <th></th>\n",
       "      <th>rating</th>\n",
       "      <th>date</th>\n",
       "    </tr>\n",
       "  </thead>\n",
       "  <tbody>\n",
       "    <tr>\n",
       "      <th>count</th>\n",
       "      <td>78245.000000</td>\n",
       "      <td>7.824500e+04</td>\n",
       "    </tr>\n",
       "    <tr>\n",
       "      <th>mean</th>\n",
       "      <td>4.006454</td>\n",
       "      <td>1.338128e+09</td>\n",
       "    </tr>\n",
       "    <tr>\n",
       "      <th>std</th>\n",
       "      <td>1.385342</td>\n",
       "      <td>6.891994e+07</td>\n",
       "    </tr>\n",
       "    <tr>\n",
       "      <th>min</th>\n",
       "      <td>1.000000</td>\n",
       "      <td>9.320832e+08</td>\n",
       "    </tr>\n",
       "    <tr>\n",
       "      <th>25%</th>\n",
       "      <td>3.000000</td>\n",
       "      <td>1.315008e+09</td>\n",
       "    </tr>\n",
       "    <tr>\n",
       "      <th>50%</th>\n",
       "      <td>5.000000</td>\n",
       "      <td>1.360800e+09</td>\n",
       "    </tr>\n",
       "    <tr>\n",
       "      <th>75%</th>\n",
       "      <td>5.000000</td>\n",
       "      <td>1.386029e+09</td>\n",
       "    </tr>\n",
       "    <tr>\n",
       "      <th>max</th>\n",
       "      <td>5.000000</td>\n",
       "      <td>1.406074e+09</td>\n",
       "    </tr>\n",
       "  </tbody>\n",
       "</table>\n",
       "</div>"
      ],
      "text/plain": [
       "             rating          date\n",
       "count  78245.000000  7.824500e+04\n",
       "mean       4.006454  1.338128e+09\n",
       "std        1.385342  6.891994e+07\n",
       "min        1.000000  9.320832e+08\n",
       "25%        3.000000  1.315008e+09\n",
       "50%        5.000000  1.360800e+09\n",
       "75%        5.000000  1.386029e+09\n",
       "max        5.000000  1.406074e+09"
      ]
     },
     "execution_count": 5,
     "metadata": {},
     "output_type": "execute_result"
    }
   ],
   "source": [
    "# Statistical summary\n",
    "df.describe()"
   ]
  },
  {
   "cell_type": "markdown",
   "id": "32e49ac4",
   "metadata": {},
   "source": [
    "## Data Visualization"
   ]
  },
  {
   "cell_type": "code",
   "execution_count": 6,
   "id": "6738f7cf",
   "metadata": {},
   "outputs": [
    {
     "data": {
      "image/png": "[encoded data removed]",
      "text/plain": [
       "<Figure size 800x400 with 1 Axes>"
      ]
     },
     "metadata": {},
     "output_type": "display_data"
    }
   ],
   "source": [
    "# Rating distribution\n",
    "plt.figure(figsize=(8,4))\n",
    "sns.histplot(df['rating'], bins=10, kde=True, color='skyblue')\n",
    "plt.title('Rating Distribution')\n",
    "plt.xlabel('Rating')\n",
    "plt.ylabel('Count')\n",
    "plt.show()"
   ]
  },
  {
   "cell_type": "code",
   "execution_count": 7,
   "id": "42e3cebf",
   "metadata": {},
   "outputs": [
    {
     "name": "stderr",
     "output_type": "stream",
     "text": [
      "C:\\Users\\Ashhar\\AppData\\Local\\Temp\\ipykernel_14776\\2886686353.py:4: FutureWarning: \n",
      "\n",
      "Passing `palette` without assigning `hue` is deprecated and will be removed in v0.14.0. Assign the `x` variable to `hue` and set `legend=False` for the same effect.\n",
      "\n",
      "  sns.barplot(x=user_counts.index, y=user_counts.values, palette='viridis')\n"
     ]
    },
    {
     "data": {
      "image/png": "[encoded data removed]",
      "text/plain": [
       "<Figure size 1000x400 with 1 Axes>"
      ]
     },
     "metadata": {},
     "output_type": "display_data"
    }
   ],
   "source": [
    "# Number of ratings per user\n",
    "user_counts = df['userid'].value_counts()[:20]\n",
    "plt.figure(figsize=(10,4))\n",
    "sns.barplot(x=user_counts.index, y=user_counts.values, palette='viridis')\n",
    "plt.xticks(rotation=90)\n",
    "plt.title('Top 20 Users by Rating Count')\n",
    "plt.ylabel('Number of Ratings')\n",
    "plt.show()"
   ]
  },
  {
   "cell_type": "code",
   "execution_count": 8,
   "id": "0626ce8a",
   "metadata": {},
   "outputs": [
    {
     "name": "stderr",
     "output_type": "stream",
     "text": [
      "C:\\Users\\Ashhar\\AppData\\Local\\Temp\\ipykernel_14776\\3732237146.py:4: FutureWarning: \n",
      "\n",
      "Passing `palette` without assigning `hue` is deprecated and will be removed in v0.14.0. Assign the `x` variable to `hue` and set `legend=False` for the same effect.\n",
      "\n",
      "  sns.barplot(x=product_counts.index, y=product_counts.values, palette='mako')\n"
     ]
    },
    {
     "data": {
      "image/png": "[encoded data removed]",
      "text/plain": [
       "<Figure size 1000x400 with 1 Axes>"
      ]
     },
     "metadata": {},
     "output_type": "display_data"
    }
   ],
   "source": [
    "# Number of ratings per product\n",
    "product_counts = df['productid'].value_counts()[:20]\n",
    "plt.figure(figsize=(10,4))\n",
    "sns.barplot(x=product_counts.index, y=product_counts.values, palette='mako')\n",
    "plt.xticks(rotation=90)\n",
    "plt.title('Top 20 Products by Rating Count')\n",
    "plt.ylabel('Number of Ratings')\n",
    "plt.show()"
   ]
  },
  {
   "cell_type": "markdown",
   "id": "a9730b40",
   "metadata": {},
   "source": [
    "## Feature Engineering & Correlation"
   ]
  },
  {
   "cell_type": "code",
   "execution_count": 9,
   "id": "d6798b38",
   "metadata": {},
   "outputs": [
    {
     "data": {
      "application/vnd.microsoft.datawrangler.viewer.v0+json": {
       "columns": [
        {
         "name": "index",
         "rawType": "int64",
         "type": "integer"
        },
        {
         "name": "userid",
         "rawType": "object",
         "type": "string"
        },
        {
         "name": "productid",
         "rawType": "object",
         "type": "string"
        },
        {
         "name": "rating",
         "rawType": "float64",
         "type": "float"
        },
        {
         "name": "date",
         "rawType": "datetime64[ns]",
         "type": "datetime"
        },
        {
         "name": "year",
         "rawType": "int32",
         "type": "integer"
        },
        {
         "name": "month",
         "rawType": "int32",
         "type": "integer"
        }
       ],
       "ref": "54c74e02-e446-4752-8b75-95db2a6ef64c",
       "rows": [
        [
         "0",
         "A1Z3YJF1S8Z1M3",
         "B000M9ISQ2",
         "5.0",
         "2008-01-08 00:00:00",
         "2008",
         "1"
        ],
        [
         "1",
         "ALDXDYEGKB27G",
         "B002L6HE9G",
         "4.0",
         "2012-03-10 00:00:00",
         "2012",
         "3"
        ],
        [
         "2",
         "A15LOGO6NBSI6B",
         "B007MXGG5Q",
         "5.0",
         "2013-01-20 00:00:00",
         "2013",
         "1"
        ],
        [
         "3",
         "A23LX12CA3G4FG",
         "B008HOEDYU",
         "1.0",
         "2013-11-25 00:00:00",
         "2013",
         "11"
        ],
        [
         "4",
         "A3TV7QFYXAG130",
         "B0069R7TAM",
         "5.0",
         "2014-06-17 00:00:00",
         "2014",
         "6"
        ]
       ],
       "shape": {
        "columns": 6,
        "rows": 5
       }
      },
      "text/html": [
       "<div>\n",
       "<style scoped>\n",
       "    .dataframe tbody tr th:only-of-type {\n",
       "        vertical-align: middle;\n",
       "    }\n",
       "\n",
       "    .dataframe tbody tr th {\n",
       "        vertical-align: top;\n",
       "    }\n",
       "\n",
       "    .dataframe thead th {\n",
       "        text-align: right;\n",
       "    }\n",
       "</style>\n",
       "<table border=\"1\" class=\"dataframe\">\n",
       "  <thead>\n",
       "    <tr style=\"text-align: right;\">\n",
       "      <th></th>\n",
       "      <th>userid</th>\n",
       "      <th>productid</th>\n",
       "      <th>rating</th>\n",
       "      <th>date</th>\n",
       "      <th>year</th>\n",
       "      <th>month</th>\n",
       "    </tr>\n",
       "  </thead>\n",
       "  <tbody>\n",
       "    <tr>\n",
       "      <th>0</th>\n",
       "      <td>A1Z3YJF1S8Z1M3</td>\n",
       "      <td>B000M9ISQ2</td>\n",
       "      <td>5.0</td>\n",
       "      <td>2008-01-08</td>\n",
       "      <td>2008</td>\n",
       "      <td>1</td>\n",
       "    </tr>\n",
       "    <tr>\n",
       "      <th>1</th>\n",
       "      <td>ALDXDYEGKB27G</td>\n",
       "      <td>B002L6HE9G</td>\n",
       "      <td>4.0</td>\n",
       "      <td>2012-03-10</td>\n",
       "      <td>2012</td>\n",
       "      <td>3</td>\n",
       "    </tr>\n",
       "    <tr>\n",
       "      <th>2</th>\n",
       "      <td>A15LOGO6NBSI6B</td>\n",
       "      <td>B007MXGG5Q</td>\n",
       "      <td>5.0</td>\n",
       "      <td>2013-01-20</td>\n",
       "      <td>2013</td>\n",
       "      <td>1</td>\n",
       "    </tr>\n",
       "    <tr>\n",
       "      <th>3</th>\n",
       "      <td>A23LX12CA3G4FG</td>\n",
       "      <td>B008HOEDYU</td>\n",
       "      <td>1.0</td>\n",
       "      <td>2013-11-25</td>\n",
       "      <td>2013</td>\n",
       "      <td>11</td>\n",
       "    </tr>\n",
       "    <tr>\n",
       "      <th>4</th>\n",
       "      <td>A3TV7QFYXAG130</td>\n",
       "      <td>B0069R7TAM</td>\n",
       "      <td>5.0</td>\n",
       "      <td>2014-06-17</td>\n",
       "      <td>2014</td>\n",
       "      <td>6</td>\n",
       "    </tr>\n",
       "  </tbody>\n",
       "</table>\n",
       "</div>"
      ],
      "text/plain": [
       "           userid   productid  rating       date  year  month\n",
       "0  A1Z3YJF1S8Z1M3  B000M9ISQ2     5.0 2008-01-08  2008      1\n",
       "1   ALDXDYEGKB27G  B002L6HE9G     4.0 2012-03-10  2012      3\n",
       "2  A15LOGO6NBSI6B  B007MXGG5Q     5.0 2013-01-20  2013      1\n",
       "3  A23LX12CA3G4FG  B008HOEDYU     1.0 2013-11-25  2013     11\n",
       "4  A3TV7QFYXAG130  B0069R7TAM     5.0 2014-06-17  2014      6"
      ]
     },
     "execution_count": 9,
     "metadata": {},
     "output_type": "execute_result"
    }
   ],
   "source": [
    "# Convert date to datetime and extract year/month\n",
    "df['date'] = pd.to_datetime(df['date'], unit='s')\n",
    "df['year'] = df['date'].dt.year\n",
    "df['month'] = df['date'].dt.month\n",
    "df.head()"
   ]
  },
  {
   "cell_type": "code",
   "execution_count": 10,
   "id": "5fd2fb1f",
   "metadata": {},
   "outputs": [
    {
     "data": {
      "image/png": "[encoded data removed]",
      "text/plain": [
       "<Figure size 800x400 with 1 Axes>"
      ]
     },
     "metadata": {},
     "output_type": "display_data"
    }
   ],
   "source": [
    "# Average rating by year\n",
    "yearly_avg = df.groupby('year')['rating'].mean()\n",
    "plt.figure(figsize=(8,4))\n",
    "yearly_avg.plot(kind='bar', color='coral')\n",
    "plt.title('Average Rating by Year')\n",
    "plt.ylabel('Average Rating')\n",
    "plt.show()"
   ]
  },
  {
   "cell_type": "code",
   "execution_count": 11,
   "id": "185d9ed3",
   "metadata": {},
   "outputs": [
    {
     "data": {
      "image/png": "[encoded data removed]",
      "text/plain": [
       "<Figure size 800x400 with 1 Axes>"
      ]
     },
     "metadata": {},
     "output_type": "display_data"
    }
   ],
   "source": [
    "# Average rating by month\n",
    "monthly_avg = df.groupby('month')['rating'].mean()\n",
    "plt.figure(figsize=(8,4))\n",
    "monthly_avg.plot(kind='bar', color='teal')\n",
    "plt.title('Average Rating by Month')\n",
    "plt.ylabel('Average Rating')\n",
    "plt.show()"
   ]
  },
  {
   "cell_type": "code",
   "execution_count": 12,
   "id": "498b0dd1",
   "metadata": {},
   "outputs": [
    {
     "data": {
      "image/png": "[encoded data removed]",
      "text/plain": [
       "<Figure size 600x400 with 2 Axes>"
      ]
     },
     "metadata": {},
     "output_type": "display_data"
    }
   ],
   "source": [
    "# Correlation heatmap\n",
    "corr = df[['rating', 'year', 'month']].corr()\n",
    "plt.figure(figsize=(6,4))\n",
    "sns.heatmap(corr, annot=True, cmap='Blues')\n",
    "plt.title('Correlation Matrix')\n",
    "plt.show()"
   ]
  },
  {
   "cell_type": "markdown",
   "id": "73fb77a9",
   "metadata": {},
   "source": [
    "## Outlier Detection\n",
    "Boxplot for ratings to detect outliers."
   ]
  },
  {
   "cell_type": "code",
   "execution_count": 13,
   "id": "c4846371",
   "metadata": {},
   "outputs": [
    {
     "data": {
      "image/png": "[encoded data removed]",
      "text/plain": [
       "<Figure size 800x400 with 1 Axes>"
      ]
     },
     "metadata": {},
     "output_type": "display_data"
    }
   ],
   "source": [
    "plt.figure(figsize=(8,4))\n",
    "sns.boxplot(x=df['rating'], color='lightgreen')\n",
    "plt.title('Boxplot of Ratings')\n",
    "plt.xlabel('Rating')\n",
    "plt.show()"
   ]
  },
  {
   "cell_type": "markdown",
   "id": "4845664b",
   "metadata": {},
   "source": [
    "## Key Insights\n",
    "- Most ratings are 4 or 5, indicating positive user feedback.\n",
    "- Some products/users are much more active than others.\n",
    "- Ratings are consistent across years/months, with minor fluctuations.\n",
    "- No major correlation between rating and time features."
   ]
  },
  {
   "cell_type": "markdown",
   "id": "52a6f173",
   "metadata": {},
   "source": [
    "## Model Building: 4 Approaches\n",
    "We will build recommendation models using 4-5 different approaches: User-User Collaborative Filtering, Item-Item Collaborative Filtering, Content-Based Filtering, Matrix Factorization (SVD) and Random Forest Approach."
   ]
  },
  {
   "cell_type": "markdown",
   "id": "3cf57591",
   "metadata": {},
   "source": [
    "## # 1. User-User Collaborative Filtering \n",
    "(Memory-based, sparse & efficient)"
   ]
  },
  {
   "cell_type": "code",
   "execution_count": null,
   "id": "222dff1b",
   "metadata": {},
   "outputs": [
    {
     "data": {
      "application/vnd.microsoft.datawrangler.viewer.v0+json": {
       "columns": [
        {
         "name": "productid",
         "rawType": "object",
         "type": "string"
        },
        {
         "name": "rating",
         "rawType": "float64",
         "type": "float"
        }
       ],
       "ref": "35c0f4da-fe5c-42f2-b3fb-41f4339b8dc0",
       "rows": [
        [
         "B0007RV3IE",
         "5.0"
        ],
        [
         "B001418WF4",
         "5.0"
        ],
        [
         "B0045ZGWKS",
         "5.0"
        ],
        [
         "B004SD22PQ",
         "5.0"
        ],
        [
         "B0054U6CEE",
         "5.0"
        ]
       ],
       "shape": {
        "columns": 1,
        "rows": 5
       }
      },
      "text/plain": [
       "productid\n",
       "B0007RV3IE    5.0\n",
       "B001418WF4    5.0\n",
       "B0045ZGWKS    5.0\n",
       "B004SD22PQ    5.0\n",
       "B0054U6CEE    5.0\n",
       "Name: rating, dtype: float64"
      ]
     },
     "execution_count": 14,
     "metadata": {},
     "output_type": "execute_result"
    }
   ],
   "source": [
    "from sklearn.neighbors import NearestNeighbors\n",
    "from scipy.sparse import csr_matrix\n",
    "\n",
    "# Map user and product IDs to integer indices\n",
    "user_ids = df['userid'].astype('category').cat.codes\n",
    "product_ids = df['productid'].astype('category').cat.codes\n",
    "\n",
    "# Build sparse user-item matrix\n",
    "user_item_sparse = csr_matrix(\n",
    "    (df['rating'], (user_ids, product_ids)),\n",
    "    shape=(user_ids.max() + 1, product_ids.max() + 1)\n",
    ")\n",
    "\n",
    "user_knn = NearestNeighbors(metric='cosine', algorithm='brute')\n",
    "user_knn.fit(user_item_sparse)\n",
    "\n",
    "def recommend_user(user_id, n=5):\n",
    "    user_idx = df[df['userid'] == user_id]['userid'].astype('category').cat.codes.iloc[0]\n",
    "    distances, indices = user_knn.kneighbors(user_item_sparse[user_idx], n_neighbors=n+1)\n",
    "    similar_user_indices = indices.flatten()[1:]\n",
    "    similar_user_ids = df['userid'].astype('category').cat.categories[similar_user_indices]\n",
    "    # Recommend top products rated by similar users\n",
    "    similar_ratings = df[df['userid'].isin(similar_user_ids)]\n",
    "    recommendations = similar_ratings.groupby('productid')['rating'].mean().sort_values(ascending=False).head(n)\n",
    "    return recommendations\n",
    "# Example usage\n",
    "recommend_user('A1Z3YJF1S8Z1M3')"
   ]
  },
  {
   "cell_type": "markdown",
   "id": "6238d1f9",
   "metadata": {},
   "source": [
    "## # 2. Item-Item Collaborative Filtering \n",
    "(Memory-based, sparse & efficient)"
   ]
  },
  {
   "cell_type": "code",
   "execution_count": null,
   "id": "19dbbc95",
   "metadata": {},
   "outputs": [
    {
     "data": {
      "application/vnd.microsoft.datawrangler.viewer.v0+json": {
       "columns": [
        {
         "name": "productid",
         "rawType": "object",
         "type": "string"
        },
        {
         "name": "rating",
         "rawType": "float64",
         "type": "float"
        }
       ],
       "ref": "9c7c1773-bd75-4cf1-8173-a5a937ad5532",
       "rows": [
        [
         "B00KZ40HT0",
         "5.0"
        ],
        [
         "B00KYMCJF8",
         "5.0"
        ],
        [
         "B00KYCSJQ6",
         "4.0"
        ],
        [
         "B00KWHMR6G",
         "1.0"
        ],
        [
         "B00KX04RY2",
         "1.0"
        ]
       ],
       "shape": {
        "columns": 1,
        "rows": 5
       }
      },
      "text/plain": [
       "productid\n",
       "B00KZ40HT0    5.0\n",
       "B00KYMCJF8    5.0\n",
       "B00KYCSJQ6    4.0\n",
       "B00KWHMR6G    1.0\n",
       "B00KX04RY2    1.0\n",
       "Name: rating, dtype: float64"
      ]
     },
     "execution_count": 15,
     "metadata": {},
     "output_type": "execute_result"
    }
   ],
   "source": [
    "from sklearn.neighbors import NearestNeighbors\n",
    "from scipy.sparse import csr_matrix\n",
    "\n",
    "# Map product and user IDs to integer indices\n",
    "product_ids = df['productid'].astype('category').cat.codes\n",
    "user_ids = df['userid'].astype('category').cat.codes\n",
    "\n",
    "# Build sparse item-user matrix\n",
    "item_user_sparse = csr_matrix(\n",
    "    (df['rating'], (product_ids, user_ids)),\n",
    "    shape=(product_ids.max() + 1, user_ids.max() + 1)\n",
    ")\n",
    "\n",
    "item_knn = NearestNeighbors(metric='cosine', algorithm='brute')\n",
    "item_knn.fit(item_user_sparse)\n",
    "\n",
    "def recommend_item(product_id, n=5):\n",
    "    item_idx = df[df['productid'] == product_id]['productid'].astype('category').cat.codes.iloc[0]\n",
    "    distances, indices = item_knn.kneighbors(item_user_sparse[item_idx], n_neighbors=n+1)\n",
    "    similar_item_indices = indices.flatten()[1:]\n",
    "    similar_item_ids = df['productid'].astype('category').cat.categories[similar_item_indices]\n",
    "    similar_ratings = df[df['productid'].isin(similar_item_ids)]\n",
    "    recommendations = similar_ratings.groupby('productid')['rating'].mean().sort_values(ascending=False).head(n)\n",
    "    return recommendations\n",
    "\n",
    "# Example usage\n",
    "recommend_item('B000M9ISQ2')"
   ]
  },
  {
   "cell_type": "markdown",
   "id": "1d7c750e",
   "metadata": {},
   "source": [
    "## 3. Content-Based Filtering \n",
    "(using average product rating)"
   ]
  },
  {
   "cell_type": "code",
   "execution_count": null,
   "id": "aabb832a",
   "metadata": {},
   "outputs": [
    {
     "data": {
      "application/vnd.microsoft.datawrangler.viewer.v0+json": {
       "columns": [
        {
         "name": "productid",
         "rawType": "object",
         "type": "string"
        },
        {
         "name": "rating",
         "rawType": "float64",
         "type": "float"
        }
       ],
       "ref": "d317f468-57f8-455f-ba76-23e09876f7ba",
       "rows": [
        [
         "B00L1LXOWS",
         "5.0"
        ],
        [
         "B00KKKOAAG",
         "5.0"
        ],
        [
         "B00KIVGGBS",
         "5.0"
        ],
        [
         "B00KINSDK8",
         "5.0"
        ],
        [
         "B00KIMX4EY",
         "5.0"
        ]
       ],
       "shape": {
        "columns": 1,
        "rows": 5
       }
      },
      "text/plain": [
       "productid\n",
       "B00L1LXOWS    5.0\n",
       "B00KKKOAAG    5.0\n",
       "B00KIVGGBS    5.0\n",
       "B00KINSDK8    5.0\n",
       "B00KIMX4EY    5.0\n",
       "Name: rating, dtype: float64"
      ]
     },
     "execution_count": 16,
     "metadata": {},
     "output_type": "execute_result"
    }
   ],
   "source": [
    "product_avg_rating = df.groupby('productid')['rating'].mean()\n",
    "def recommend_content(user_id, n=5):\n",
    "    user_products = df[df['userid'] == user_id]['productid']\n",
    "    unrated_products = product_avg_rating[~product_avg_rating.index.isin(user_products)]\n",
    "    recommendations = unrated_products.sort_values(ascending=False).head(n)\n",
    "    return recommendations\n",
    "\n",
    "# Example usage\n",
    "recommend_content('A1Z3YJF1S8Z1M3')"
   ]
  },
  {
   "cell_type": "markdown",
   "id": "21e1dd69",
   "metadata": {},
   "source": [
    "## 4. Matrix Factorization SVD"
   ]
  },
  {
   "cell_type": "code",
   "execution_count": 18,
   "id": "b325a326",
   "metadata": {},
   "outputs": [],
   "source": [
    "import pandas as pd \n",
    "import numpy as np \n",
    "from scipy.sparse import csr_matrix \n",
    "from scipy.sparse.linalg import svds"
   ]
  },
  {
   "cell_type": "code",
   "execution_count": 19,
   "id": "ee27def2",
   "metadata": {},
   "outputs": [],
   "source": [
    "# Load data\n",
    "df = pd.read_csv('rating_short.csv')\n",
    "\n",
    "# Encode user and product IDs as integer indices\n",
    "user_codes = df['userid'].astype('category').cat.codes \n",
    "product_codes = df['productid'].astype('category').cat.codes\n",
    "\n",
    "# Build sparse user-item matrix\n",
    "user_item_sparse = csr_matrix( (df['rating'], (user_codes, product_codes)), shape=(user_codes.max() + 1, product_codes.max() + 1) )\n",
    "\n",
    "# Apply SVD (choose k based on dataset size, e.g., k=20)\n",
    "k = 20 \n",
    "U, sigma, Vt = svds(user_item_sparse, k=k) \n",
    "sigma = np.diag(sigma) \n",
    "svd_pred = np.dot(np.dot(U, sigma), Vt)\n",
    "\n",
    "# Map indices back to user and product IDs\n",
    "user_id_map = dict(enumerate(df['userid'].astype('category').cat.categories)) \n",
    "product_id_map = dict(enumerate(df['productid'].astype('category').cat.categories))"
   ]
  },
  {
   "cell_type": "code",
   "execution_count": 20,
   "id": "e3122893",
   "metadata": {},
   "outputs": [
    {
     "name": "stdout",
     "output_type": "stream",
     "text": [
      "    productid  predicted_rating\n",
      "0  B0019EHU8G      2.061045e-18\n",
      "1  B008OHNZI0      1.143494e-18\n",
      "2  B00DR0PDNE      1.029571e-18\n",
      "3  B004QK7HI8      6.621011e-19\n",
      "4  B00BGA9WK2      4.562556e-19\n"
     ]
    }
   ],
   "source": [
    "#Recommendation function\n",
    "def recommend_svd(user_id, n=5): \n",
    "    # Get user index \n",
    "    user_idx = df[df['userid'] == user_id]['userid'].astype('category').cat.codes.iloc[0] \n",
    "    # Get predicted ratings for all products for this user \n",
    "    user_ratings = svd_pred[user_idx] \n",
    "    # Exclude products already rated by the user \n",
    "    rated_products = df[df['userid'] == user_id]['productid'].unique() \n",
    "    unrated_indices = [i for i, pid in product_id_map.items() if pid not in rated_products] \n",
    "    # Get top n recommendations \n",
    "    top_indices = np.argsort(user_ratings[unrated_indices])[::-1][:n] \n",
    "    recommended_products = [product_id_map[unrated_indices[i]] for i in top_indices] \n",
    "    recommended_scores = user_ratings[unrated_indices][top_indices] \n",
    "    # Detailed output \n",
    "    result = pd.DataFrame({ 'productid': recommended_products, 'predicted_rating': recommended_scores }) \n",
    "    return result\n",
    "\n",
    "# Example usage: get top 5 recommendations for a user\n",
    "print(recommend_svd('A1Z3YJF1S8Z1M3', n=5))"
   ]
  },
  {
   "cell_type": "markdown",
   "id": "96d2ce1a",
   "metadata": {},
   "source": [
    "## 5. Random Forest Approach (Optional)\n",
    "(Supervised Learning)"
   ]
  },
  {
   "cell_type": "code",
   "execution_count": null,
   "id": "37e3cd88",
   "metadata": {},
   "outputs": [
    {
     "name": "stdout",
     "output_type": "stream",
     "text": [
      "n_estimators=10, Test Score=-0.1943\n",
      "n_estimators=50, Test Score=-0.1356\n",
      "n_estimators=50, Test Score=-0.1356\n",
      "n_estimators=100, Test Score=-0.1277\n",
      "n_estimators=100, Test Score=-0.1277\n",
      "n_estimators=200, Test Score=-0.1254\n",
      "\n",
      "Best Random Forest Test Score: -0.1254 with n_estimators=200\n",
      "n_estimators=200, Test Score=-0.1254\n",
      "\n",
      "Best Random Forest Test Score: -0.1254 with n_estimators=200\n",
      "B005LRW1CC    4.825\n",
      "B005LT2ENG    4.825\n",
      "B005LTR9PY    4.825\n",
      "B005LU4U2S    4.825\n",
      "B005LS2GPI    4.825\n",
      "dtype: float64\n",
      "B005LRW1CC    4.825\n",
      "B005LT2ENG    4.825\n",
      "B005LTR9PY    4.825\n",
      "B005LU4U2S    4.825\n",
      "B005LS2GPI    4.825\n",
      "dtype: float64\n"
     ]
    }
   ],
   "source": [
    "from sklearn.ensemble import RandomForestRegressor\n",
    "from sklearn.model_selection import train_test_split\n",
    "\n",
    "# Encode user and product IDs\n",
    "user_codes = df['userid'].astype('category').cat.codes\n",
    "product_codes = df['productid'].astype('category').cat.codes\n",
    "X = pd.DataFrame({'user_idx': user_codes, 'product_idx': product_codes})\n",
    "y = df['rating']\n",
    "\n",
    "# Train/test split\n",
    "X_train, X_test, y_train, y_test = train_test_split(X, y, test_size=0.2, random_state=42)\n",
    "\n",
    "# Find best n_estimators for Random Forest\n",
    "best_score = -float('inf')\n",
    "best_n = 0\n",
    "for n in [10, 50, 100, 200]:\n",
    "    rf = RandomForestRegressor(n_estimators=n, random_state=42)\n",
    "    rf.fit(X_train, y_train)\n",
    "    score = rf.score(X_test, y_test)\n",
    "    print(f\"n_estimators={n}, Test Score={score:.4f}\")\n",
    "    if score > best_score:\n",
    "        best_score = score\n",
    "        best_n = n\n",
    "print(f\"\\nBest Random Forest Test Score: {best_score:.4f} with n_estimators={best_n}\")\n",
    "\n",
    "# Fit final model\n",
    "rf = RandomForestRegressor(n_estimators=best_n, random_state=42)\n",
    "rf.fit(X_train, y_train)\n",
    "\n",
    "def recommend_rf(user_id, n=5):\n",
    "    user_idx = df[df['userid'] == user_id]['userid'].astype('category').cat.codes.iloc[0]\n",
    "    all_products = df['productid'].astype('category').cat.codes.unique()\n",
    "    user_product_pairs = pd.DataFrame({'user_idx': user_idx, 'product_idx': all_products})\n",
    "    preds = rf.predict(user_product_pairs)\n",
    "    product_ids = df['productid'].astype('category').cat.categories[all_products]\n",
    "    recommendations = pd.Series(preds, index=product_ids).sort_values(ascending=False).head(n)\n",
    "    return recommendations\n",
    "\n",
    "# Example usage\n",
    "print(recommend_rf('A1Z3YJF1S8Z1M3'))"
   ]
  },
  {
   "cell_type": "markdown",
   "id": "9a67c785",
   "metadata": {},
   "source": [
    "# Model Comparison & Best Approach:\n",
    "\n",
    "### 1. User-User Collaborative Filtering:\n",
    "\n",
    "- Uses user similarity to recommend products.\n",
    "- Works well if users have similar rating patterns.\n",
    "- Sparse matrix implementation avoids memory errors.\n",
    "- May struggle with new users (cold start).\n",
    "### 2. Item-Item Collaborative Filtering:\n",
    "\n",
    "- Uses item similarity to recommend products.\n",
    "- Good for finding similar products based on ratings.\n",
    "- Sparse matrix implementation is efficient.\n",
    "- May struggle with new products (cold start).\n",
    "### 3. Matrix Factorization (SVD):\n",
    "\n",
    "- Decomposes user-item interactions into latent features.\n",
    "- Handles sparsity and can generalize well.\n",
    "- Memory-efficient with sparse matrix.\n",
    "- Best for large datasets with many users/products.\n",
    "### 4. Content-Based Filtering:\n",
    "\n",
    "- Recommends products based on product features or average ratings.\n",
    "- Simple and fast.\n",
    "- Works for new users but not for new products.\n",
    "- Limited by available product features.\n",
    "### 5. Random Forest (Supervised Learning):\n",
    "\n",
    "- Predicts ratings using encoded user and product IDs.\n",
    "- Test score is printed for different n_estimators; best score is selected.\n",
    "- Handles non-linear relationships.\n",
    "- May not capture collaborative effects as well as SVD."
   ]
  },
  {
   "cell_type": "markdown",
   "id": "223dee4b",
   "metadata": {},
   "source": [
    "## Best Fitted Model:\n",
    "\n",
    "- Based on typical `recommendation system performance and scalability`, ``Matrix Factorization (SVD)`` is usually the **best fitted model for large, sparse rating datasets**.\n",
    "- SVD can generalize well, handle missing data, and is robust to sparsity.\n",
    "- If your Random Forest test score is significantly higher than SVD’s RMSE or test score, Random Forest may be considered, but SVD is generally preferred for collaborative filtering tasks.\n",
    "## Summary & Insights:\n",
    "\n",
    "- SVD (Matrix Factorization) is recommended for your dataset due to its ability to handle large, sparse matrices and provide personalized recommendations.\n",
    "- User-User and Item-Item models are efficient but may suffer from cold start problems.\n",
    "- Content-Based Filtering is simple but limited in personalization.\n",
    "- Random Forest is useful for regression but may not capture collaborative effects as well as SVD.\n",
    "- Proceed with SVD for production, but monitor Random Forest’s test score for comparison."
   ]
  },
  {
   "cell_type": "markdown",
   "id": "c8b2b2fe",
   "metadata": {},
   "source": []
  }
 ],
 "metadata": {
  "kernelspec": {
   "display_name": "Python 3",
   "language": "python",
   "name": "python3"
  },
  "language_info": {
   "codemirror_mode": {
    "name": "ipython",
    "version": 3
   },
   "file_extension": ".py",
   "mimetype": "text/x-python",
   "name": "python",
   "nbconvert_exporter": "python",
   "pygments_lexer": "ipython3",
   "version": "3.13.3"
  }
 },
 "nbformat": 4,
 "nbformat_minor": 5
}
